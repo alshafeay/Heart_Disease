{
 "cells": [
  {
   "cell_type": "code",
   "execution_count": 1,
   "metadata": {},
   "outputs": [],
   "source": [
    "    import pandas as pd\n",
    "    import numpy as np\n",
    "    from sklearn.ensemble import RandomForestClassifier\n",
    "    import joblib\n",
    "    import os"
   ]
  },
  {
   "cell_type": "code",
   "execution_count": 2,
   "metadata": {},
   "outputs": [
    {
     "name": "stdout",
     "output_type": "stream",
     "text": [
      "Dataset with selected features loaded successfully.\n"
     ]
    }
   ],
   "source": [
    "try:\n",
    "    df = pd.read_csv('../data/heart_disease_selected_features.csv')\n",
    "    print(\"Dataset with selected features loaded successfully.\")\n",
    "except FileNotFoundError:\n",
    "    print(\"Error: 'heart_disease_selected_features.csv' not found.\")\n",
    "    print(\"Please run the feature selection script first to generate this file.\")\n",
    "    # As a fallback, create a dummy dataframe\n",
    "    print(\"Creating a dummy dataframe for demonstration purposes.\")\n",
    "    data = {\n",
    "        'feat1': np.random.rand(303), 'feat2': np.random.rand(303), 'feat3': np.random.rand(303),\n",
    "        'feat4': np.random.rand(303), 'feat5': np.random.rand(303), 'feat6': np.random.rand(303),\n",
    "        'feat7': np.random.rand(303), 'feat8': np.random.rand(303),\n",
    "        'target': np.random.randint(0, 2, 303)\n",
    "    }\n",
    "    df = pd.DataFrame(data)"
   ]
  },
  {
   "cell_type": "code",
   "execution_count": 3,
   "metadata": {},
   "outputs": [],
   "source": [
    "X = df.drop('target', axis=1)\n",
    "y = df['target']"
   ]
  },
  {
   "cell_type": "code",
   "execution_count": 4,
   "metadata": {},
   "outputs": [],
   "source": [
    "y = (y > 0).astype(int)"
   ]
  },
  {
   "cell_type": "code",
   "execution_count": 5,
   "metadata": {},
   "outputs": [],
   "source": [
    "best_params = {\n",
    "    'n_estimators': 200,\n",
    "    'max_depth': 10,\n",
    "    'min_samples_split': 5,\n",
    "    'min_samples_leaf': 1,\n",
    "    'max_features': 'sqrt',\n",
    "    'random_state': 42\n",
    "}"
   ]
  },
  {
   "cell_type": "code",
   "execution_count": 6,
   "metadata": {},
   "outputs": [
    {
     "name": "stdout",
     "output_type": "stream",
     "text": [
      "\n",
      "--- Training the final model on the entire dataset ---\n",
      "Final model trained successfully.\n"
     ]
    }
   ],
   "source": [
    "print(\"\\n--- Training the final model on the entire dataset ---\")\n",
    "final_model = RandomForestClassifier(**best_params)\n",
    "final_model.fit(X, y)\n",
    "print(\"Final model trained successfully.\")"
   ]
  },
  {
   "cell_type": "code",
   "execution_count": 7,
   "metadata": {},
   "outputs": [
    {
     "name": "stdout",
     "output_type": "stream",
     "text": [
      "Saving model to: ../models\\final_model.pkl\n"
     ]
    },
    {
     "data": {
      "text/plain": [
       "['../models\\\\final_model.pkl']"
      ]
     },
     "execution_count": 7,
     "metadata": {},
     "output_type": "execute_result"
    }
   ],
   "source": [
    "output_dir = '../models'\n",
    "if not os.path.exists(output_dir):\n",
    "    os.makedirs(output_dir)\n",
    "model_path = os.path.join(output_dir, 'final_model.pkl')\n",
    "print(f\"Saving model to: {model_path}\")\n",
    "joblib.dump(final_model, model_path)"
   ]
  },
  {
   "cell_type": "code",
   "execution_count": 8,
   "metadata": {},
   "outputs": [
    {
     "name": "stdout",
     "output_type": "stream",
     "text": [
      "\n",
      "--- Model Export Complete ---\n",
      "The trained model has been saved and is ready for deployment.\n",
      "You can find it at: ../models\\final_model.pkl\n"
     ]
    }
   ],
   "source": [
    "print(\"\\n--- Model Export Complete ---\")\n",
    "print(f\"The trained model has been saved and is ready for deployment.\")\n",
    "print(\"You can find it at:\", model_path)"
   ]
  }
 ],
 "metadata": {
  "kernelspec": {
   "display_name": "Python 3",
   "language": "python",
   "name": "python3"
  },
  "language_info": {
   "codemirror_mode": {
    "name": "ipython",
    "version": 3
   },
   "file_extension": ".py",
   "mimetype": "text/x-python",
   "name": "python",
   "nbconvert_exporter": "python",
   "pygments_lexer": "ipython3",
   "version": "3.13.5"
  }
 },
 "nbformat": 4,
 "nbformat_minor": 2
}
